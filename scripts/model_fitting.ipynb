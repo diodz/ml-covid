{
 "cells": [
  {
   "cell_type": "code",
   "execution_count": 3,
   "metadata": {
    "scrolled": true
   },
   "outputs": [],
   "source": [
    "import pipeline"
   ]
  },
  {
   "cell_type": "code",
   "execution_count": 4,
   "metadata": {},
   "outputs": [],
   "source": [
    "filepath = '../data/covid_df.pkl'\n",
    "df_train, df_test = pipeline.read_and_process_data(filepath)\n",
    "del filepath"
   ]
  },
  {
   "cell_type": "markdown",
   "metadata": {},
   "source": [
    "Checking variables with highest percentage of NAs in training set:"
   ]
  },
  {
   "cell_type": "code",
   "execution_count": 5,
   "metadata": {
    "scrolled": false
   },
   "outputs": [
    {
     "data": {
      "text/plain": [
       "E4_International support                 0.035732\n",
       "H4_Emergency investment in healthcare    0.020798\n",
       "H5_Investment in vaccines                0.013500\n",
       "H2_Testing policy                        0.009576\n",
       "EconomicSupportIndex                     0.008859\n",
       "E2_Debt/contract relief                  0.008058\n",
       "E3_Fiscal measures                       0.007298\n",
       "H3_Contact tracing                       0.007087\n",
       "ContainmentHealthIndex                   0.007045\n",
       "GovernmentResponseIndex                  0.007045\n",
       "E1_Income support                        0.004472\n",
       "C5_Close public transport                0.003755\n",
       "C3_Cancel public events                  0.003712\n",
       "C4_Restrictions on gatherings            0.003712\n",
       "C7_Restrictions on internal movement     0.003712\n",
       "StringencyIndex                          0.003670\n",
       "H1_Public information campaigns          0.003670\n",
       "C8_International travel controls         0.003670\n",
       "C6_Stay at home requirements             0.003670\n",
       "C2_Workplace closing                     0.003670\n",
       "dtype: float64"
      ]
     },
     "execution_count": 5,
     "metadata": {},
     "output_type": "execute_result"
    }
   ],
   "source": [
    "df_train.apply(lambda x: x.isnull().sum()/len(x)).sort_values(ascending=False)[:20]"
   ]
  },
  {
   "cell_type": "code",
   "execution_count": 6,
   "metadata": {},
   "outputs": [
    {
     "name": "stdout",
     "output_type": "stream",
     "text": [
      "Success: Features match\n",
      "Failure: Data is not clean yet, NAs remaining\n"
     ]
    }
   ],
   "source": [
    "pipeline.sanity_check(df_train, df_test)"
   ]
  },
  {
   "cell_type": "code",
   "execution_count": 7,
   "metadata": {},
   "outputs": [],
   "source": [
    "df_train = df_train.dropna()\n",
    "df_test = df_test.dropna()\n",
    "\n",
    "#Since we will be predicting confirmed cases first, we remove the other outcomes (deaths)\n",
    "df_train = df_train.drop(['Deaths'], axis=1)\n",
    "df_test = df_test.drop(['Deaths'], axis=1)\n",
    "\n",
    "#Next we choose a target to split the data on x and y\n",
    "x_train, y_train = pipeline.divide_target_and_features(df_train, 'Confirmed Cases')\n",
    "x_test, y_test = pipeline.divide_target_and_features(df_test, 'Confirmed Cases')"
   ]
  },
  {
   "cell_type": "code",
   "execution_count": 18,
   "metadata": {},
   "outputs": [
    {
     "name": "stdout",
     "output_type": "stream",
     "text": [
      "Lasso: Features with highest magnitude coefficients in absolute value\n",
      "                           Feature  Coefficient\n",
      "22                       Recovered     0.212831\n",
      "0                        Intercept     0.015721\n",
      "33   Days Elapsed Since First Case     0.003892\n",
      "32                       Day Count    -0.000156\n",
      "116             Country_Madagascar    -0.000000\n",
      "118               Country_Malaysia    -0.000000\n",
      "119                   Country_Mali     0.000000\n",
      "120             Country_Mauritania    -0.000000\n",
      "121              Country_Mauritius    -0.000000\n",
      "122                 Country_Mexico    -0.000000\n",
      "\n",
      "Bias: 0.77\n",
      "Mean squared error: 7.61\n",
      "RSS: 30639.07\n",
      "Variance score: 0.28\n",
      "\n",
      "Ridge: Features with highest magnitude coefficients in absolute value\n",
      "                              Feature  Coefficient\n",
      "174  Country_United States of America     1.208713\n",
      "64                      Country_China    -1.181994\n",
      "88                    Country_Germany    -1.129358\n",
      "96                      Country_India     0.923956\n",
      "18                    StringencyIndex    -0.854737\n",
      "19            GovernmentResponseIndex    -0.760830\n",
      "23                                GDP     0.727835\n",
      "20             ContainmentHealthIndex    -0.691853\n",
      "60                     Country_Canada    -0.690187\n",
      "22                          Recovered     0.648528\n",
      "\n",
      "Bias: 0.39\n",
      "Mean squared error: 2.71\n",
      "RSS: 10920.22\n",
      "Variance score: 0.63\n",
      "\n",
      "Linear Regression: Features with highest magnitude coefficients in absolute value\n",
      "                              Feature   Coefficient\n",
      "96                      Country_India  8.895417e+07\n",
      "64                      Country_China  6.046039e+07\n",
      "24                         Population -3.553828e+07\n",
      "174  Country_United States of America -1.742832e+07\n",
      "97                  Country_Indonesia  1.329145e+07\n",
      "23                                GDP  1.303978e+07\n",
      "136                  Country_Pakistan  1.269206e+07\n",
      "133                   Country_Nigeria  1.025486e+07\n",
      "163               Country_Switzerland  9.014178e+06\n",
      "43                 Country_Bangladesh  8.491493e+06\n",
      "\n",
      "Bias: 0.39\n",
      "Mean squared error: 2.70\n",
      "RSS: 10869.59\n",
      "Variance score: 0.63\n",
      "\n"
     ]
    }
   ],
   "source": [
    "from sklearn import linear_model\n",
    "import importlib\n",
    "importlib.reload(pipeline)\n",
    "ls = linear_model.Lasso(alpha=0.5)\n",
    "rg = linear_model.Ridge(alpha=0.5)\n",
    "lreg = linear_model.LinearRegression()\n",
    "ev = {}\n",
    "models = [(ls, 'Lasso'),\n",
    "          (rg, 'Ridge'),\n",
    "          (lreg, 'Linear Regression')]\n",
    "\n",
    "for m in models:\n",
    "    (model, name) = m\n",
    "    model.fit(x_train, y_train)\n",
    "    y_pred = model.predict(x_test)\n",
    "    print('{}\\n{}\\n'.format(name + ': Features with highest magnitude coefficients in absolute value'\n",
    "                            , pipeline.get_most_relevant_features(x_train, model, 10)))\n",
    "    ev[name] = pipeline.metrics(y_pred, y_test, x_train, y_train, model)"
   ]
  },
  {
   "cell_type": "code",
   "execution_count": 19,
   "metadata": {},
   "outputs": [
    {
     "data": {
      "text/plain": [
       "0.7691365902943914"
      ]
     },
     "execution_count": 19,
     "metadata": {},
     "output_type": "execute_result"
    }
   ],
   "source": [
    "from sklearn.metrics import r2_score\n",
    "r2_score(y_test, y_pred)"
   ]
  },
  {
   "cell_type": "code",
   "execution_count": 41,
   "metadata": {},
   "outputs": [],
   "source": [
    "from sklearn.preprocessing import PolynomialFeatures\n",
    "poly = PolynomialFeatures(degree=2, include_bias=False)\n",
    "pf = poly.fit_transform(x_train)"
   ]
  }
 ],
 "metadata": {
  "kernelspec": {
   "display_name": "Python 3",
   "language": "python",
   "name": "python3"
  },
  "language_info": {
   "codemirror_mode": {
    "name": "ipython",
    "version": 3
   },
   "file_extension": ".py",
   "mimetype": "text/x-python",
   "name": "python",
   "nbconvert_exporter": "python",
   "pygments_lexer": "ipython3",
   "version": "3.8.3"
  }
 },
 "nbformat": 4,
 "nbformat_minor": 4
}
