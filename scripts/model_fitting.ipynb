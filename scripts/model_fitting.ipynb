{
 "cells": [
  {
   "cell_type": "code",
   "execution_count": 7,
   "metadata": {
    "scrolled": true
   },
   "outputs": [
    {
     "data": {
      "text/plain": [
       "<module 'pipeline' from 'C:\\\\Google Drive\\\\Machine Learning\\\\ml-covid\\\\scripts\\\\pipeline.py'>"
      ]
     },
     "execution_count": 7,
     "metadata": {},
     "output_type": "execute_result"
    }
   ],
   "source": [
    "import pipeline\n",
    "import importlib\n",
    "importlib.reload(pipeline)"
   ]
  },
  {
   "cell_type": "code",
   "execution_count": 8,
   "metadata": {},
   "outputs": [],
   "source": [
    "filepath = '../data/covid_df_protocol_3.pkl'\n",
    "df_train, df_test = pipeline.read_and_process_data(filepath)\n",
    "del filepath"
   ]
  },
  {
   "cell_type": "markdown",
   "metadata": {},
   "source": [
    "Checking variables with highest percentage of NAs in training set:"
   ]
  },
  {
   "cell_type": "code",
   "execution_count": 9,
   "metadata": {
    "scrolled": false
   },
   "outputs": [
    {
     "data": {
      "text/plain": [
       "E4_International support                 0.035732\n",
       "H4_Emergency investment in healthcare    0.020798\n",
       "H5_Investment in vaccines                0.013500\n",
       "H2_Testing policy                        0.009576\n",
       "EconomicSupportIndex                     0.008859\n",
       "E2_Debt/contract relief                  0.008058\n",
       "E3_Fiscal measures                       0.007298\n",
       "H3_Contact tracing                       0.007087\n",
       "ContainmentHealthIndex                   0.007045\n",
       "GovernmentResponseIndex                  0.007045\n",
       "E1_Income support                        0.004472\n",
       "C5_Close public transport                0.003755\n",
       "C3_Cancel public events                  0.003712\n",
       "C4_Restrictions on gatherings            0.003712\n",
       "C7_Restrictions on internal movement     0.003712\n",
       "StringencyIndex                          0.003670\n",
       "H1_Public information campaigns          0.003670\n",
       "C8_International travel controls         0.003670\n",
       "C6_Stay at home requirements             0.003670\n",
       "C2_Workplace closing                     0.003670\n",
       "dtype: float64"
      ]
     },
     "execution_count": 9,
     "metadata": {},
     "output_type": "execute_result"
    }
   ],
   "source": [
    "df_train.apply(lambda x: x.isnull().sum()/len(x)).sort_values(ascending=False)[:20]"
   ]
  },
  {
   "cell_type": "code",
   "execution_count": 10,
   "metadata": {},
   "outputs": [
    {
     "name": "stdout",
     "output_type": "stream",
     "text": [
      "Success: Features match\n",
      "Failure: Data is not clean yet, NAs remaining\n"
     ]
    }
   ],
   "source": [
    "pipeline.sanity_check(df_train, df_test)"
   ]
  },
  {
   "cell_type": "code",
   "execution_count": 11,
   "metadata": {},
   "outputs": [],
   "source": [
    "df_train = df_train.dropna()\n",
    "df_test = df_test.dropna()\n",
    "\n",
    "#Since we will be predicting confirmed cases first, we remove the other outcomes (deaths)\n",
    "df_train = df_train.drop(['Deaths'], axis=1)\n",
    "df_test = df_test.drop(['Deaths'], axis=1)\n",
    "\n",
    "#Next we choose a target to split the data on x and y\n",
    "x_train, y_train = pipeline.divide_target_and_features(df_train, 'Confirmed Cases')\n",
    "x_test, y_test = pipeline.divide_target_and_features(df_test, 'Confirmed Cases')"
   ]
  },
  {
   "cell_type": "code",
   "execution_count": 12,
   "metadata": {},
   "outputs": [
    {
     "name": "stderr",
     "output_type": "stream",
     "text": [
      "C:\\ProgramData\\Anaconda3\\lib\\site-packages\\sklearn\\linear_model\\_coordinate_descent.py:476: ConvergenceWarning: Objective did not converge. You might want to increase the number of iterations. Duality gap: 3738094750790.4736, tolerance: 2037045742.7499552\n",
      "  positive)\n"
     ]
    },
    {
     "name": "stdout",
     "output_type": "stream",
     "text": [
      "Lasso: Features with highest magnitude coefficients in absolute value\n",
      "                              Feature    Coefficient\n",
      "174  Country_United States of America  129920.720298\n",
      "18                    StringencyIndex  -65818.858240\n",
      "88                    Country_Germany  -20129.767087\n",
      "98                       Country_Iran  -16359.794784\n",
      "60                     Country_Canada  -15078.445291\n",
      "102                     Country_Italy   14954.770571\n",
      "96                      Country_India   12721.652640\n",
      "2                C2_Workplace closing   10635.622829\n",
      "21               EconomicSupportIndex  -10622.613264\n",
      "53                     Country_Brazil   -9529.164611\n",
      "\n",
      "Bias: 335702388.42\n",
      "Mean squared error: 2327817121.37\n",
      "RSS: 9630179431110.29\n",
      "Variance score: 0.63\n",
      "\n",
      "Ridge: Features with highest magnitude coefficients in absolute value\n",
      "                              Feature   Coefficient\n",
      "174  Country_United States of America  35507.794510\n",
      "64                      Country_China -34800.597381\n",
      "88                    Country_Germany -33259.579655\n",
      "96                      Country_India  27151.661583\n",
      "18                    StringencyIndex -25414.356638\n",
      "19            GovernmentResponseIndex -22750.255454\n",
      "22                                GDP  21305.681780\n",
      "20             ContainmentHealthIndex -20643.770082\n",
      "60                     Country_Canada -20362.432099\n",
      "98                       Country_Iran -15907.100756\n",
      "\n",
      "Bias: 335651698.06\n",
      "Mean squared error: 2327271652.90\n",
      "RSS: 9627922828047.75\n",
      "Variance score: 0.63\n",
      "\n",
      "Linear Regression: Features with highest magnitude coefficients in absolute value\n",
      "                              Feature   Coefficient\n",
      "19            GovernmentResponseIndex -9.361201e+06\n",
      "20             ContainmentHealthIndex  4.604306e+06\n",
      "18                    StringencyIndex  3.356790e+06\n",
      "21               EconomicSupportIndex  1.397581e+06\n",
      "15                 H3_Contact tracing  4.567981e+05\n",
      "14                  H2_Testing policy  3.421895e+05\n",
      "174  Country_United States of America  3.580329e+04\n",
      "64                      Country_China -3.532192e+04\n",
      "88                    Country_Germany -3.391022e+04\n",
      "96                      Country_India  2.750277e+04\n",
      "\n",
      "Bias: 335142045.07\n",
      "Mean squared error: 2316702619.28\n",
      "RSS: 9584198735952.43\n",
      "Variance score: 0.63\n",
      "\n"
     ]
    }
   ],
   "source": [
    "from sklearn import linear_model\n",
    "import importlib\n",
    "importlib.reload(pipeline)\n",
    "ls = linear_model.Lasso(alpha=0.5)\n",
    "rg = linear_model.Ridge(alpha=0.5)\n",
    "lreg = linear_model.LinearRegression()\n",
    "ev = {}\n",
    "models = [(ls, 'Lasso'),\n",
    "          (rg, 'Ridge'),\n",
    "          (lreg, 'Linear Regression')]\n",
    "\n",
    "for m in models:\n",
    "    (model, name) = m\n",
    "    model.fit(x_train, y_train)\n",
    "    y_pred = model.predict(x_test)\n",
    "    print('{}\\n{}\\n'.format(name + ': Features with highest magnitude coefficients in absolute value'\n",
    "                            , pipeline.get_most_relevant_features(x_train, model, 10)))\n",
    "    ev[name] = pipeline.metrics(y_pred, y_test, x_train, y_train, model)"
   ]
  },
  {
   "cell_type": "code",
   "execution_count": 19,
   "metadata": {},
   "outputs": [
    {
     "data": {
      "text/plain": [
       "0.7691365902943914"
      ]
     },
     "execution_count": 19,
     "metadata": {},
     "output_type": "execute_result"
    }
   ],
   "source": [
    "from sklearn.metrics import r2_score\n",
    "r2_score(y_test, y_pred)"
   ]
  },
  {
   "cell_type": "code",
   "execution_count": 41,
   "metadata": {},
   "outputs": [],
   "source": [
    "from sklearn.preprocessing import PolynomialFeatures\n",
    "poly = PolynomialFeatures(degree=2, include_bias=False)\n",
    "pf = poly.fit_transform(x_train)"
   ]
  }
 ],
 "metadata": {
  "kernelspec": {
   "display_name": "Python 3",
   "language": "python",
   "name": "python3"
  },
  "language_info": {
   "codemirror_mode": {
    "name": "ipython",
    "version": 3
   },
   "file_extension": ".py",
   "mimetype": "text/x-python",
   "name": "python",
   "nbconvert_exporter": "python",
   "pygments_lexer": "ipython3",
   "version": "3.7.7"
  }
 },
 "nbformat": 4,
 "nbformat_minor": 4
}
