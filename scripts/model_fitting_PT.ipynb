{
 "cells": [
  {
   "cell_type": "code",
   "execution_count": 130,
   "metadata": {
    "scrolled": true
   },
   "outputs": [],
   "source": [
    "import pipeline\n",
    "import pandas as pd\n",
    "import pickle\n",
    "pd.options.display.max_columns = None"
   ]
  },
  {
   "cell_type": "code",
   "execution_count": 131,
   "metadata": {},
   "outputs": [],
   "source": [
    "filepath = '../data/covid_df_protocol_3.pkl'\n",
    "df_train, df_test = pipeline.read_and_process_data(filepath)\n",
    "del filepath"
   ]
  },
  {
   "cell_type": "markdown",
   "metadata": {},
   "source": [
    "Checking variables with highest percentage of NAs in training set:"
   ]
  },
  {
   "cell_type": "code",
   "execution_count": 132,
   "metadata": {
    "scrolled": false
   },
   "outputs": [
    {
     "data": {
      "text/plain": [
       "E4_International support                 0.035775\n",
       "H4_Emergency investment in healthcare    0.020798\n",
       "H5_Investment in vaccines                0.013500\n",
       "H2_Testing policy                        0.009576\n",
       "EconomicSupportIndex                     0.008901\n",
       "E2_Debt/contract relief                  0.008100\n",
       "E3_Fiscal measures                       0.007341\n",
       "H3_Contact tracing                       0.007087\n",
       "GovernmentResponseIndex                  0.007087\n",
       "ContainmentHealthIndex                   0.007045\n",
       "E1_Income support                        0.004514\n",
       "C5_Close public transport                0.003755\n",
       "C3_Cancel public events                  0.003712\n",
       "C4_Restrictions on gatherings            0.003712\n",
       "C7_Restrictions on internal movement     0.003712\n",
       "StringencyIndex                          0.003670\n",
       "H1_Public information campaigns          0.003670\n",
       "C8_International travel controls         0.003670\n",
       "C6_Stay at home requirements             0.003670\n",
       "C2_Workplace closing                     0.003670\n",
       "dtype: float64"
      ]
     },
     "execution_count": 132,
     "metadata": {},
     "output_type": "execute_result"
    }
   ],
   "source": [
    "df_train.apply(lambda x: x.isnull().sum()/len(x)).sort_values(ascending=False)[:20]"
   ]
  },
  {
   "cell_type": "code",
   "execution_count": 133,
   "metadata": {},
   "outputs": [
    {
     "name": "stdout",
     "output_type": "stream",
     "text": [
      "Success: Features match\n",
      "Failure: Data is not clean yet, NAs remaining\n"
     ]
    }
   ],
   "source": [
    "pipeline.sanity_check(df_train, df_test)"
   ]
  },
  {
   "cell_type": "code",
   "execution_count": 134,
   "metadata": {},
   "outputs": [],
   "source": [
    "df_train = df_train.dropna()\n",
    "df_test = df_test.dropna()\n",
    "df_train = df_train.dropna()\n",
    "df_test = df_test.dropna()\n",
    "\n",
    "#Since we will be predicting confirmed cases first, we remove the other outcomes (deaths)\n",
    "df_train = df_train.drop(['Deaths'], axis=1)\n",
    "df_test = df_test.drop(['Deaths'], axis=1)\n",
    "\n",
    "#Next we choose a target to split the data on x and y\n",
    "x_train, y_train = pipeline.divide_target_and_features(df_train, 'Confirmed Cases')\n",
    "x_test, y_test = pipeline.divide_target_and_features(df_test, 'Confirmed Cases')"
   ]
  },
  {
   "cell_type": "code",
   "execution_count": 135,
   "metadata": {
    "scrolled": false
   },
   "outputs": [
    {
     "name": "stdout",
     "output_type": "stream",
     "text": [
      "Lasso\n",
      "                           Feature  Coefficient\n",
      "22                       Recovered     0.212831\n",
      "0                        Intercept     0.015721\n",
      "33   Days Elapsed Since First Case     0.003892\n",
      "32                       Day Count    -0.000156\n",
      "116             Country_Madagascar    -0.000000\n",
      "118               Country_Malaysia    -0.000000\n",
      "119                   Country_Mali     0.000000\n",
      "120             Country_Mauritania    -0.000000\n",
      "121              Country_Mauritius    -0.000000\n",
      "122                 Country_Mexico    -0.000000\n",
      "\n",
      "Bias: 0.77\n",
      "Mean squared error: 7.61\n",
      "RSS: 30639.07\n",
      "Variance score: 0.28\n",
      "R2 score: -8.62\n",
      "\n",
      "Ridge\n",
      "                              Feature  Coefficient\n",
      "174  Country_United States of America     1.208713\n",
      "64                      Country_China    -1.181994\n",
      "88                    Country_Germany    -1.129358\n",
      "96                      Country_India     0.923956\n",
      "18                    StringencyIndex    -0.854737\n",
      "19            GovernmentResponseIndex    -0.760830\n",
      "23                                GDP     0.727835\n",
      "20             ContainmentHealthIndex    -0.691853\n",
      "60                     Country_Canada    -0.690187\n",
      "22                          Recovered     0.648528\n",
      "\n",
      "Bias: 0.39\n",
      "Mean squared error: 2.71\n",
      "RSS: 10920.22\n",
      "Variance score: 0.63\n",
      "R2 score: 0.42\n",
      "\n",
      "Linear Regression\n",
      "                              Feature  Coefficient\n",
      "19            GovernmentResponseIndex  -303.155990\n",
      "20             ContainmentHealthIndex   161.051526\n",
      "18                    StringencyIndex    98.262923\n",
      "21               EconomicSupportIndex    45.245247\n",
      "15                 H3_Contact tracing    13.384339\n",
      "14                  H2_Testing policy    10.088317\n",
      "174  Country_United States of America     1.217767\n",
      "64                      Country_China    -1.199550\n",
      "88                    Country_Germany    -1.141654\n",
      "96                      Country_India     0.936175\n",
      "\n",
      "Bias: 0.39\n",
      "Mean squared error: 2.70\n",
      "RSS: 10869.58\n",
      "Variance score: 0.63\n",
      "R2 score: 0.42\n",
      "\n"
     ]
    }
   ],
   "source": [
    "from sklearn import linear_model\n",
    "import importlib\n",
    "importlib.reload(pipeline)\n",
    "ls = linear_model.Lasso(alpha=0.5)\n",
    "rg = linear_model.Ridge(alpha=0.5)\n",
    "lreg = linear_model.LinearRegression()\n",
    "ev = {}\n",
    "models = [(ls, 'Lasso'),\n",
    "          (rg, 'Ridge'),\n",
    "          (lreg, 'Linear Regression')]\n",
    "\n",
    "for m in models:\n",
    "    (model, name) = m\n",
    "    model.fit(x_train, y_train)\n",
    "    y_pred = model.predict(x_test)\n",
    "    print('{}\\n{}\\n'.format(name, pipeline.get_most_relevant_features(x_train, model, 10)))\n",
    "    ev[name] = pipeline.metrics(y_pred, y_test, x_train, y_train, model)"
   ]
  },
  {
   "cell_type": "code",
   "execution_count": 41,
   "metadata": {},
   "outputs": [],
   "source": [
    "from sklearn.preprocessing import PolynomialFeatures\n",
    "poly = PolynomialFeatures(degree=2, include_bias=False)\n",
    "pf = poly.fit_transform(x_train)"
   ]
  },
  {
   "cell_type": "markdown",
   "metadata": {},
   "source": [
    "## Trying to see the effect of policies in lagged days "
   ]
  },
  {
   "cell_type": "code",
   "execution_count": 136,
   "metadata": {},
   "outputs": [],
   "source": [
    "def policy_effect_lag(filepath, outcome_var, lag):\n",
    "    '''\n",
    "    The effect of policy is expected to have some lag.\n",
    "    This function, lags the outcome variable by given number of days,\n",
    "    input:\n",
    "        filepath: pandas pickle filepath \n",
    "        outcome_var: (str) the variable which needs to be lagged\n",
    "        lag: (int) number of days to be lagged\n",
    "    output:\n",
    "        save the file in data folder\n",
    "    '''\n",
    "    df = pd.read_pickle(filepath)\n",
    "    df.rename(columns={outcome_var: str(outcome_var) + '_old'}, inplace = True)\n",
    "    df[outcome_var] = df.groupby('Country')[str(outcome_var) + '_old'].shift(lag)\n",
    "    df = df[~df[outcome_var].isnull()]\n",
    "    df.drop(columns=[str(outcome_var) + '_old'])\n",
    "    \n",
    "    #savint the pkl to the data folder\n",
    "    filename = 'covid_df_lagged_days_' + str(lag)\n",
    "    with open ('../data/'+filename, 'wb') as f:\n",
    "        pickle.dump(df, f)\n",
    "    \n",
    "    print(\"filename: {} dumped in ../data/folder\".format(filename) )\n",
    "    return None"
   ]
  },
  {
   "cell_type": "code",
   "execution_count": 137,
   "metadata": {},
   "outputs": [
    {
     "name": "stdout",
     "output_type": "stream",
     "text": [
      "filename: covid_df_lagged_days_2 dumped in ../data/folder\n"
     ]
    }
   ],
   "source": [
    "filepath = '../data/covid_df_protocol_3.pkl'\n",
    "policy_effect_lag(filepath, 'Confirmed Cases', 2)"
   ]
  },
  {
   "cell_type": "code",
   "execution_count": 138,
   "metadata": {},
   "outputs": [],
   "source": [
    "filepath_lag4 = '../data/covid_df_lagged_days_2'\n",
    "df_train, df_test = pipeline.read_and_process_data(filepath_lag4)"
   ]
  },
  {
   "cell_type": "code",
   "execution_count": 139,
   "metadata": {},
   "outputs": [],
   "source": [
    "df_train = df_train.dropna()\n",
    "df_test = df_test.dropna()\n",
    "df_train = df_train.dropna()\n",
    "df_test = df_test.dropna()\n",
    "\n",
    "#Since we will be predicting confirmed cases first, we remove the other outcomes (deaths)\n",
    "#df_train = df_train.drop(['Deaths'], axis=1)\n",
    "#df_test = df_test.drop(['Deaths'], axis=1)\n",
    "\n",
    "#Next we choose a target to split the data on x and y\n",
    "x_train, y_train = pipeline.divide_target_and_features(df_train, 'Confirmed Cases')\n",
    "x_test, y_test = pipeline.divide_target_and_features(df_test, 'Confirmed Cases')"
   ]
  },
  {
   "cell_type": "code",
   "execution_count": 140,
   "metadata": {},
   "outputs": [
    {
     "name": "stdout",
     "output_type": "stream",
     "text": [
      "Lasso\n",
      "                           Feature  Coefficient\n",
      "22             Confirmed Cases_old     0.441012\n",
      "35   Days Elapsed Since First Case     0.002641\n",
      "0                        Intercept     0.002474\n",
      "34                       Day Count    -0.000086\n",
      "118             Country_Madagascar    -0.000000\n",
      "120               Country_Malaysia    -0.000000\n",
      "121                   Country_Mali     0.000000\n",
      "122             Country_Mauritania    -0.000000\n",
      "123              Country_Mauritius    -0.000000\n",
      "124                 Country_Mexico    -0.000000\n",
      "\n",
      "Bias: 0.39\n",
      "Mean squared error: 4.54\n",
      "RSS: 18298.02\n",
      "Variance score: 0.64\n",
      "R2 score: -0.66\n",
      "\n",
      "Ridge\n",
      "                              Feature  Coefficient\n",
      "22                Confirmed Cases_old     1.250989\n",
      "104                     Country_Italy     0.632144\n",
      "160                     Country_Spain     0.444251\n",
      "24                             Deaths    -0.321141\n",
      "18                    StringencyIndex     0.135549\n",
      "52                    Country_Bolivia    -0.112233\n",
      "19            GovernmentResponseIndex     0.109349\n",
      "176  Country_United States of America    -0.104970\n",
      "148                    Country_Russia    -0.102303\n",
      "20             ContainmentHealthIndex     0.097746\n",
      "\n",
      "Bias: 0.13\n",
      "Mean squared error: 0.99\n",
      "RSS: 3993.29\n",
      "Variance score: 0.88\n",
      "R2 score: 0.86\n",
      "\n",
      "Linear Regression\n",
      "                              Feature   Coefficient\n",
      "66                      Country_China -3.693562e+07\n",
      "98                      Country_India -2.961238e+07\n",
      "83                   Country_Eswatini  1.075235e+07\n",
      "114                   Country_Lesotho  1.015945e+07\n",
      "26                         Population  1.013149e+07\n",
      "176  Country_United States of America -9.768434e+06\n",
      "118                Country_Madagascar -9.344223e+06\n",
      "158              Country_South Africa  9.112988e+06\n",
      "45                 Country_Bangladesh -8.164139e+06\n",
      "72                       Country_Cuba -7.031209e+06\n",
      "\n",
      "Bias: 0.13\n",
      "Mean squared error: 0.99\n",
      "RSS: 3997.23\n",
      "Variance score: 0.88\n",
      "R2 score: 0.86\n",
      "\n"
     ]
    }
   ],
   "source": [
    "from sklearn import linear_model\n",
    "import importlib\n",
    "importlib.reload(pipeline)\n",
    "ls = linear_model.Lasso(alpha=0.5)\n",
    "rg = linear_model.Ridge(alpha=0.5)\n",
    "lreg = linear_model.LinearRegression()\n",
    "ev = {}\n",
    "models = [(ls, 'Lasso'),\n",
    "          (rg, 'Ridge'),\n",
    "          (lreg, 'Linear Regression')]\n",
    "\n",
    "for m in models:\n",
    "    (model, name) = m\n",
    "    model.fit(x_train, y_train)\n",
    "    y_pred = model.predict(x_test)\n",
    "    print('{}\\n{}\\n'.format(name, pipeline.get_most_relevant_features(x_train, model, 10)))\n",
    "    ev[name] = pipeline.metrics(y_pred, y_test, x_train, y_train, model)"
   ]
  }
 ],
 "metadata": {
  "kernelspec": {
   "display_name": "Python 3",
   "language": "python",
   "name": "python3"
  },
  "language_info": {
   "codemirror_mode": {
    "name": "ipython",
    "version": 3
   },
   "file_extension": ".py",
   "mimetype": "text/x-python",
   "name": "python",
   "nbconvert_exporter": "python",
   "pygments_lexer": "ipython3",
   "version": "3.7.4"
  }
 },
 "nbformat": 4,
 "nbformat_minor": 4
}
