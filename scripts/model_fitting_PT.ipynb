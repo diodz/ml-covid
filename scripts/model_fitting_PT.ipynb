{
 "cells": [
  {
   "cell_type": "code",
   "execution_count": 1,
   "metadata": {
    "scrolled": true
   },
   "outputs": [],
   "source": [
    "import pipeline\n",
    "import pandas as pd\n",
    "import pickle\n",
    "pd.options.display.max_columns = None"
   ]
  },
  {
   "cell_type": "code",
   "execution_count": 2,
   "metadata": {},
   "outputs": [],
   "source": [
    "filepath = '../data/covid_df_protocol_3.pkl'\n",
    "df_train, df_test = pipeline.read_and_process_data(filepath)\n",
    "del filepath"
   ]
  },
  {
   "cell_type": "markdown",
   "metadata": {},
   "source": [
    "Checking variables with highest percentage of NAs in training set:"
   ]
  },
  {
   "cell_type": "code",
   "execution_count": 3,
   "metadata": {
    "scrolled": false
   },
   "outputs": [
    {
     "data": {
      "text/plain": [
       "E4_International support                 0.035732\n",
       "H4_Emergency investment in healthcare    0.020798\n",
       "H5_Investment in vaccines                0.013500\n",
       "H2_Testing policy                        0.009576\n",
       "EconomicSupportIndex                     0.008859\n",
       "E2_Debt/contract relief                  0.008058\n",
       "E3_Fiscal measures                       0.007298\n",
       "H3_Contact tracing                       0.007087\n",
       "ContainmentHealthIndex                   0.007045\n",
       "GovernmentResponseIndex                  0.007045\n",
       "E1_Income support                        0.004472\n",
       "C5_Close public transport                0.003755\n",
       "C3_Cancel public events                  0.003712\n",
       "C4_Restrictions on gatherings            0.003712\n",
       "C7_Restrictions on internal movement     0.003712\n",
       "StringencyIndex                          0.003670\n",
       "H1_Public information campaigns          0.003670\n",
       "C8_International travel controls         0.003670\n",
       "C6_Stay at home requirements             0.003670\n",
       "C2_Workplace closing                     0.003670\n",
       "dtype: float64"
      ]
     },
     "execution_count": 3,
     "metadata": {},
     "output_type": "execute_result"
    }
   ],
   "source": [
    "df_train.apply(lambda x: x.isnull().sum()/len(x)).sort_values(ascending=False)[:20]"
   ]
  },
  {
   "cell_type": "code",
   "execution_count": 4,
   "metadata": {},
   "outputs": [
    {
     "name": "stdout",
     "output_type": "stream",
     "text": [
      "Success: Features match\n",
      "Failure: Data is not clean yet, NAs remaining\n"
     ]
    }
   ],
   "source": [
    "pipeline.sanity_check(df_train, df_test)"
   ]
  },
  {
   "cell_type": "code",
   "execution_count": 5,
   "metadata": {},
   "outputs": [],
   "source": [
    "df_train = df_train.dropna()\n",
    "df_test = df_test.dropna()\n",
    "df_train = df_train.dropna()\n",
    "df_test = df_test.dropna()\n",
    "\n",
    "#Since we will be predicting confirmed cases first, we remove the other outcomes (deaths)\n",
    "df_train = df_train.drop(['Deaths'], axis=1)\n",
    "df_test = df_test.drop(['Deaths'], axis=1)\n",
    "\n",
    "#Next we choose a target to split the data on x and y\n",
    "x_train, y_train = pipeline.divide_target_and_features(df_train, 'Confirmed Cases')\n",
    "x_test, y_test = pipeline.divide_target_and_features(df_test, 'Confirmed Cases')"
   ]
  },
  {
   "cell_type": "code",
   "execution_count": 6,
   "metadata": {
    "scrolled": false
   },
   "outputs": [
    {
     "name": "stdout",
     "output_type": "stream",
     "text": [
      "Lasso\n",
      "                           Feature  Coefficient\n",
      "22                       Recovered     0.212805\n",
      "0                        Intercept     0.015715\n",
      "33   Days Elapsed Since First Case     0.003892\n",
      "32                       Day Count    -0.000156\n",
      "116             Country_Madagascar    -0.000000\n",
      "118               Country_Malaysia    -0.000000\n",
      "119                   Country_Mali     0.000000\n",
      "120             Country_Mauritania    -0.000000\n",
      "121              Country_Mauritius    -0.000000\n",
      "122                 Country_Mexico    -0.000000\n",
      "\n",
      "Bias: 0.77\n",
      "Mean squared error: 7.42\n",
      "RSS: 30677.16\n",
      "Variance score: 0.28\n",
      "\n",
      "Ridge\n",
      "                              Feature  Coefficient\n",
      "174  Country_United States of America     1.210372\n",
      "64                      Country_China    -1.186275\n",
      "88                    Country_Germany    -1.133698\n",
      "96                      Country_India     0.925537\n",
      "18                    StringencyIndex    -0.866324\n",
      "19            GovernmentResponseIndex    -0.775513\n",
      "23                                GDP     0.726264\n",
      "20             ContainmentHealthIndex    -0.703708\n",
      "60                     Country_Canada    -0.694114\n",
      "22                          Recovered     0.648443\n",
      "\n",
      "Bias: 0.39\n",
      "Mean squared error: 2.70\n",
      "RSS: 11187.28\n",
      "Variance score: 0.63\n",
      "\n",
      "Linear Regression\n",
      "                              Feature   Coefficient\n",
      "174  Country_United States of America  7.036335e+08\n",
      "64                      Country_China  2.974139e+08\n",
      "96                      Country_India -2.908836e+08\n",
      "23                                GDP -2.616933e+08\n",
      "163               Country_Switzerland -1.990874e+08\n",
      "144                     Country_Qatar -1.786539e+08\n",
      "115                Country_Luxembourg -1.701624e+08\n",
      "24                         Population  1.644728e+08\n",
      "100                   Country_Ireland -1.391506e+08\n",
      "40                    Country_Austria -1.257342e+08\n",
      "\n",
      "Bias: 0.39\n",
      "Mean squared error: 2.69\n",
      "RSS: 11136.34\n",
      "Variance score: 0.63\n",
      "\n"
     ]
    }
   ],
   "source": [
    "from sklearn import linear_model\n",
    "import importlib\n",
    "importlib.reload(pipeline)\n",
    "ls = linear_model.Lasso(alpha=0.5)\n",
    "rg = linear_model.Ridge(alpha=0.5)\n",
    "lreg = linear_model.LinearRegression()\n",
    "ev = {}\n",
    "models = [(ls, 'Lasso'),\n",
    "          (rg, 'Ridge'),\n",
    "          (lreg, 'Linear Regression')]\n",
    "\n",
    "for m in models:\n",
    "    (model, name) = m\n",
    "    model.fit(x_train, y_train)\n",
    "    y_pred = model.predict(x_test)\n",
    "    print('{}\\n{}\\n'.format(name, pipeline.get_most_relevant_features(x_train, model, 10)))\n",
    "    ev[name] = pipeline.metrics(y_pred, y_test, x_train, y_train, model)"
   ]
  },
  {
   "cell_type": "code",
   "execution_count": 41,
   "metadata": {},
   "outputs": [],
   "source": [
    "from sklearn.preprocessing import PolynomialFeatures\n",
    "poly = PolynomialFeatures(degree=2, include_bias=False)\n",
    "pf = poly.fit_transform(x_train)"
   ]
  },
  {
   "cell_type": "markdown",
   "metadata": {},
   "source": [
    "## Trying to see the effect of policies in lagged days "
   ]
  },
  {
   "cell_type": "code",
   "execution_count": 7,
   "metadata": {},
   "outputs": [],
   "source": [
    "def policy_effect_lag(filepath, outcome_var, lag):\n",
    "    '''\n",
    "    The effect of policy is expected to have some lag.\n",
    "    This function, lags the outcome variable by given number of days,\n",
    "    input:\n",
    "        filepath: pandas pickle filepath \n",
    "        outcome_var: (str) the variable which needs to be lagged\n",
    "        lag: (int) number of days to be lagged\n",
    "    output:\n",
    "        save the file in data folder\n",
    "    '''\n",
    "    df = pd.read_pickle(filepath)\n",
    "    df.rename(columns={outcome_var: str(outcome_var) + '_old'}, inplace = True)\n",
    "    df[outcome_var] = df.groupby('Country')[str(outcome_var) + '_old'].shift(lag)\n",
    "    df = df[~df[outcome_var].isnull()]\n",
    "    df.drop(columns=[str(outcome_var) + '_old'])\n",
    "    \n",
    "    #savint the pkl to the data folder\n",
    "    filename = 'covid_df_lagged_days_' + str(lag)\n",
    "    with open ('../data/'+filename, 'wb') as f:\n",
    "        pickle.dump(df, f)\n",
    "    \n",
    "    print(\"filename: {} dumped in ../data/folder\".format(filename) )\n",
    "    return None"
   ]
  },
  {
   "cell_type": "code",
   "execution_count": 8,
   "metadata": {},
   "outputs": [
    {
     "name": "stdout",
     "output_type": "stream",
     "text": [
      "filename: covid_df_lagged_days_2 dumped in ../data/folder\n"
     ]
    }
   ],
   "source": [
    "filepath = '../data/covid_df_protocol_3.pkl'\n",
    "policy_effect_lag(filepath, 'Confirmed Cases', 2)"
   ]
  },
  {
   "cell_type": "code",
   "execution_count": 9,
   "metadata": {},
   "outputs": [],
   "source": [
    "filepath_lag4 = '../data/covid_df_lagged_days_2'\n",
    "df_train, df_test = pipeline.read_and_process_data(filepath_lag4)"
   ]
  },
  {
   "cell_type": "code",
   "execution_count": 10,
   "metadata": {},
   "outputs": [],
   "source": [
    "df_train = df_train.dropna()\n",
    "df_test = df_test.dropna()\n",
    "df_train = df_train.dropna()\n",
    "df_test = df_test.dropna()\n",
    "\n",
    "#Since we will be predicting confirmed cases first, we remove the other outcomes (deaths)\n",
    "#df_train = df_train.drop(['Deaths'], axis=1)\n",
    "#df_test = df_test.drop(['Deaths'], axis=1)\n",
    "\n",
    "#Next we choose a target to split the data on x and y\n",
    "x_train, y_train = pipeline.divide_target_and_features(df_train, 'Confirmed Cases')\n",
    "x_test, y_test = pipeline.divide_target_and_features(df_test, 'Confirmed Cases')"
   ]
  },
  {
   "cell_type": "code",
   "execution_count": 11,
   "metadata": {},
   "outputs": [
    {
     "name": "stdout",
     "output_type": "stream",
     "text": [
      "Lasso\n",
      "                           Feature  Coefficient\n",
      "22             Confirmed Cases_old     0.440990\n",
      "35   Days Elapsed Since First Case     0.002642\n",
      "0                        Intercept     0.002479\n",
      "34                       Day Count    -0.000086\n",
      "118             Country_Madagascar    -0.000000\n",
      "120               Country_Malaysia    -0.000000\n",
      "121                   Country_Mali     0.000000\n",
      "122             Country_Mauritania    -0.000000\n",
      "123              Country_Mauritius    -0.000000\n",
      "124                 Country_Mexico    -0.000000\n",
      "\n",
      "Bias: 0.39\n",
      "Mean squared error: 4.44\n",
      "RSS: 18359.89\n",
      "Variance score: 0.64\n",
      "\n",
      "Ridge\n",
      "                              Feature  Coefficient\n",
      "22                Confirmed Cases_old     1.251097\n",
      "104                     Country_Italy     0.632317\n",
      "160                     Country_Spain     0.444223\n",
      "24                             Deaths    -0.321202\n",
      "18                    StringencyIndex     0.137343\n",
      "52                    Country_Bolivia    -0.112386\n",
      "19            GovernmentResponseIndex     0.110504\n",
      "176  Country_United States of America    -0.105250\n",
      "148                    Country_Russia    -0.102058\n",
      "20             ContainmentHealthIndex     0.098905\n",
      "\n",
      "Bias: 0.13\n",
      "Mean squared error: 0.97\n",
      "RSS: 3998.67\n",
      "Variance score: 0.88\n",
      "\n",
      "Linear Regression\n",
      "                     Feature  Coefficient\n",
      "20    ContainmentHealthIndex   -60.702631\n",
      "19   GovernmentResponseIndex    36.929842\n",
      "18           StringencyIndex    23.635439\n",
      "21      EconomicSupportIndex    -5.559573\n",
      "15        H3_Contact tracing     3.121481\n",
      "14         H2_Testing policy     2.287180\n",
      "22       Confirmed Cases_old     1.252003\n",
      "104            Country_Italy     0.636450\n",
      "160            Country_Spain     0.444706\n",
      "24                    Deaths    -0.321851\n",
      "\n",
      "Bias: 0.13\n",
      "Mean squared error: 0.97\n",
      "RSS: 4002.83\n",
      "Variance score: 0.88\n",
      "\n"
     ]
    }
   ],
   "source": [
    "from sklearn import linear_model\n",
    "import importlib\n",
    "importlib.reload(pipeline)\n",
    "ls = linear_model.Lasso(alpha=0.5)\n",
    "rg = linear_model.Ridge(alpha=0.5)\n",
    "lreg = linear_model.LinearRegression()\n",
    "ev = {}\n",
    "models = [(ls, 'Lasso'),\n",
    "          (rg, 'Ridge'),\n",
    "          (lreg, 'Linear Regression')]\n",
    "\n",
    "for m in models:\n",
    "    (model, name) = m\n",
    "    model.fit(x_train, y_train)\n",
    "    y_pred = model.predict(x_test)\n",
    "    print('{}\\n{}\\n'.format(name, pipeline.get_most_relevant_features(x_train, model, 10)))\n",
    "    ev[name] = pipeline.metrics(y_pred, y_test, x_train, y_train, model)"
   ]
  },
  {
   "cell_type": "code",
   "execution_count": null,
   "metadata": {},
   "outputs": [],
   "source": []
  }
 ],
 "metadata": {
  "kernelspec": {
   "display_name": "Python 3",
   "language": "python",
   "name": "python3"
  },
  "language_info": {
   "codemirror_mode": {
    "name": "ipython",
    "version": 3
   },
   "file_extension": ".py",
   "mimetype": "text/x-python",
   "name": "python",
   "nbconvert_exporter": "python",
   "pygments_lexer": "ipython3",
   "version": "3.8.3"
  }
 },
 "nbformat": 4,
 "nbformat_minor": 4
}
