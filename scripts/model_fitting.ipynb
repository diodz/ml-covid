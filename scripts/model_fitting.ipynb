{
 "cells": [
  {
   "cell_type": "code",
   "execution_count": 1,
   "metadata": {
    "scrolled": true
   },
   "outputs": [],
   "source": [
    "import pipeline"
   ]
  },
  {
   "cell_type": "code",
   "execution_count": 2,
   "metadata": {},
   "outputs": [],
   "source": [
    "filepath = '../data/covid_df.pkl'\n",
    "df_train, df_test = pipeline.read_and_process_data(filepath)\n",
    "del filepath"
   ]
  },
  {
   "cell_type": "markdown",
   "metadata": {},
   "source": [
    "Checking variables with highest percentage of NAs in training set:"
   ]
  },
  {
   "cell_type": "code",
   "execution_count": 3,
   "metadata": {
    "scrolled": false
   },
   "outputs": [
    {
     "data": {
      "text/plain": [
       "E4_International support                 0.035775\n",
       "H4_Emergency investment in healthcare    0.020798\n",
       "H5_Investment in vaccines                0.013500\n",
       "H2_Testing policy                        0.009576\n",
       "EconomicSupportIndex                     0.008901\n",
       "E2_Debt/contract relief                  0.008100\n",
       "E3_Fiscal measures                       0.007341\n",
       "H3_Contact tracing                       0.007087\n",
       "GovernmentResponseIndex                  0.007087\n",
       "ContainmentHealthIndex                   0.007045\n",
       "E1_Income support                        0.004514\n",
       "C5_Close public transport                0.003755\n",
       "C3_Cancel public events                  0.003712\n",
       "C4_Restrictions on gatherings            0.003712\n",
       "C7_Restrictions on internal movement     0.003712\n",
       "StringencyIndex                          0.003670\n",
       "H1_Public information campaigns          0.003670\n",
       "C8_International travel controls         0.003670\n",
       "C6_Stay at home requirements             0.003670\n",
       "C2_Workplace closing                     0.003670\n",
       "dtype: float64"
      ]
     },
     "execution_count": 3,
     "metadata": {},
     "output_type": "execute_result"
    }
   ],
   "source": [
    "df_train.apply(lambda x: x.isnull().sum()/len(x)).sort_values(ascending=False)[:20]"
   ]
  },
  {
   "cell_type": "code",
   "execution_count": 4,
   "metadata": {},
   "outputs": [
    {
     "name": "stdout",
     "output_type": "stream",
     "text": [
      "Success: Features match\n"
     ]
    }
   ],
   "source": [
    "pipeline.sanity_check(df_train, df_test)"
   ]
  },
  {
   "cell_type": "code",
   "execution_count": 5,
   "metadata": {},
   "outputs": [],
   "source": [
    "df_train = df_train.dropna()\n",
    "df_test = df_test.dropna()\n",
    "df_train = df_train.dropna()\n",
    "df_test = df_test.dropna()\n",
    "\n",
    "#Since we will be predicting confirmed cases first, we remove the other outcomes (deaths)\n",
    "df_train = df_train.drop(['Deaths'], axis=1)\n",
    "df_test = df_test.drop(['Deaths'], axis=1)\n",
    "\n",
    "#Next we choose a target to split the data on x and y\n",
    "x_train, y_train = pipeline.divide_target_and_features(df_train, 'Confirmed Cases')\n",
    "x_test, y_test = pipeline.divide_target_and_features(df_test, 'Confirmed Cases')"
   ]
  },
  {
   "cell_type": "code",
   "execution_count": 6,
   "metadata": {},
   "outputs": [
    {
     "name": "stdout",
     "output_type": "stream",
     "text": [
      "Lasso\n",
      "                           Feature  Coefficient\n",
      "18                       Recovered     0.307085\n",
      "0                        Intercept     0.030487\n",
      "29   Days Elapsed Since First Case     0.000615\n",
      "28                       Day Count    -0.000067\n",
      "121             Country_Mozambique    -0.000000\n",
      "115             Country_Mauritania    -0.000000\n",
      "116              Country_Mauritius    -0.000000\n",
      "117                 Country_Mexico     0.000000\n",
      "118                Country_Moldova    -0.000000\n",
      "119               Country_Mongolia    -0.000000\n",
      "\n",
      "Bias: 0.82\n",
      "Mean squared error: 22.05\n",
      "RSS: 11049.15\n",
      "Variance score: 0.34\n",
      "\n",
      "Ridge\n",
      "               Feature  Coefficient\n",
      "145     Country_Serbia     5.234631\n",
      "18           Recovered     0.651700\n",
      "73     Country_Ecuador    -0.610619\n",
      "54     Country_Burundi    -0.442469\n",
      "81       Country_Gabon     0.439532\n",
      "53       Country_Burma    -0.424404\n",
      "55    Country_Cameroon    -0.423874\n",
      "38     Country_Bahrain    -0.378646\n",
      "44       Country_Benin    -0.299912\n",
      "93   Country_Indonesia    -0.282618\n",
      "\n",
      "Bias: 0.46\n",
      "Mean squared error: 12.10\n",
      "RSS: 6061.05\n",
      "Variance score: 0.63\n",
      "\n",
      "Linear Regression\n",
      "               Feature  Coefficient\n",
      "145     Country_Serbia     5.383644\n",
      "18           Recovered     0.651683\n",
      "73     Country_Ecuador    -0.601364\n",
      "54     Country_Burundi    -0.444518\n",
      "81       Country_Gabon     0.437889\n",
      "55    Country_Cameroon    -0.426401\n",
      "53       Country_Burma    -0.425646\n",
      "38     Country_Bahrain    -0.396844\n",
      "44       Country_Benin    -0.310381\n",
      "93   Country_Indonesia    -0.292565\n",
      "\n",
      "Bias: 0.46\n",
      "Mean squared error: 12.21\n",
      "RSS: 6117.31\n",
      "Variance score: 0.63\n",
      "\n"
     ]
    }
   ],
   "source": [
    "from sklearn import linear_model\n",
    "import importlib\n",
    "importlib.reload(pipeline)\n",
    "ls = linear_model.Lasso(alpha=0.5)\n",
    "rg = linear_model.Ridge(alpha=0.5)\n",
    "lreg = linear_model.LinearRegression()\n",
    "ev = {}\n",
    "models = [(ls, 'Lasso'),\n",
    "          (rg, 'Ridge'),\n",
    "          (lreg, 'Linear Regression')]\n",
    "\n",
    "for m in models:\n",
    "    (model, name) = m\n",
    "    model.fit(x_train, y_train)\n",
    "    y_pred = model.predict(x_test)\n",
    "    print('{}\\n{}\\n'.format(name, pipeline.get_most_relevant_features(x_train, model, 10)))\n",
    "    ev[name] = pipeline.metrics(y_pred, y_test, x_train, y_train, model)"
   ]
  },
  {
   "cell_type": "code",
   "execution_count": 41,
   "metadata": {},
   "outputs": [],
   "source": [
    "from sklearn.preprocessing import PolynomialFeatures\n",
    "poly = PolynomialFeatures(degree=2, include_bias=False)\n",
    "pf = poly.fit_transform(x_train)"
   ]
  }
 ],
 "metadata": {
  "kernelspec": {
   "display_name": "Python 3",
   "language": "python",
   "name": "python3"
  },
  "language_info": {
   "codemirror_mode": {
    "name": "ipython",
    "version": 3
   },
   "file_extension": ".py",
   "mimetype": "text/x-python",
   "name": "python",
   "nbconvert_exporter": "python",
   "pygments_lexer": "ipython3",
   "version": "3.8.3"
  }
 },
 "nbformat": 4,
 "nbformat_minor": 4
}
