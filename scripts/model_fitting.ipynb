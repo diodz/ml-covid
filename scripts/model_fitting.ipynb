{
 "cells": [
  {
   "cell_type": "code",
   "execution_count": 1,
   "metadata": {
    "scrolled": true
   },
   "outputs": [],
   "source": [
    "import pipeline"
   ]
  },
  {
   "cell_type": "code",
   "execution_count": 2,
   "metadata": {},
   "outputs": [],
   "source": [
    "filepath = '../data/covid_df.pkl'\n",
    "df_train, df_test = pipeline.read_and_process_data(filepath)\n",
    "del filepath"
   ]
  },
  {
   "cell_type": "code",
   "execution_count": 3,
   "metadata": {},
   "outputs": [
    {
     "name": "stdout",
     "output_type": "stream",
     "text": [
      "Success: Features match\n"
     ]
    }
   ],
   "source": [
    "pipeline.sanity_check(df_train, df_test)"
   ]
  },
  {
   "cell_type": "markdown",
   "metadata": {},
   "source": [
    "Checking variables with highest percentage of NAs in training set:"
   ]
  },
  {
   "cell_type": "code",
   "execution_count": 4,
   "metadata": {
    "scrolled": true
   },
   "outputs": [
    {
     "data": {
      "text/plain": [
       "E4_International support                 0.159124\n",
       "H4_Emergency investment in healthcare    0.149890\n",
       "H5_Investment in vaccines                0.139698\n",
       "H2_Testing policy                        0.136277\n",
       "E2_Debt/contract relief                  0.134989\n",
       "E3_Fiscal measures                       0.134327\n",
       "H3_Contact tracing                       0.134106\n",
       "E1_Income support                        0.131862\n",
       "C5_Close public transport                0.131199\n",
       "C7_Restrictions on internal movement     0.131163\n",
       "C4_Restrictions on gatherings            0.131163\n",
       "C3_Cancel public events                  0.131163\n",
       "C8_International travel controls         0.131126\n",
       "C6_Stay at home requirements             0.131126\n",
       "H1_Public information campaigns          0.131126\n",
       "C2_Workplace closing                     0.131126\n",
       "Diabetes Prevalence                      0.127925\n",
       "Physicians per 1k                        0.127925\n",
       "Universal Health Care Coverage Index     0.127925\n",
       "C1_School closing                        0.127925\n",
       "dtype: float64"
      ]
     },
     "execution_count": 4,
     "metadata": {},
     "output_type": "execute_result"
    }
   ],
   "source": [
    "df_train.apply(lambda x: x.isnull().sum()/len(x)).sort_values(ascending=False)[:20]"
   ]
  },
  {
   "cell_type": "code",
   "execution_count": 5,
   "metadata": {},
   "outputs": [],
   "source": [
    "df_train = df_train.dropna()\n",
    "df_test = df_test.dropna()\n",
    "df_train = df_train.dropna()\n",
    "df_test = df_test.dropna()\n",
    "\n",
    "#Since we will be predicting confirmed cases first, we remove the other outcomes (deaths)\n",
    "df_train = df_train.drop(['Deaths'], axis=1)\n",
    "df_test = df_test.drop(['Deaths'], axis=1)\n",
    "\n",
    "#Next we choose a target to split the data on x and y\n",
    "x_train, y_train = pipeline.divide_target_and_features(df_train, 'Confirmed Cases')\n",
    "x_test, y_test = pipeline.divide_target_and_features(df_test, 'Confirmed Cases')"
   ]
  },
  {
   "cell_type": "code",
   "execution_count": 39,
   "metadata": {},
   "outputs": [
    {
     "name": "stdout",
     "output_type": "stream",
     "text": [
      "Lasso\n",
      "                           Feature  Coefficient\n",
      "19                          Deaths     0.514527\n",
      "0                        Intercept     0.015328\n",
      "30   Days Elapsed Since First Case     0.000606\n",
      "29                       Day Count    -0.000035\n",
      "122             Country_Mozambique     0.000000\n",
      "116             Country_Mauritania    -0.000000\n",
      "117              Country_Mauritius    -0.000000\n",
      "118                 Country_Mexico     0.000000\n",
      "119                Country_Moldova    -0.000000\n",
      "120               Country_Mongolia    -0.000000\n",
      "\n",
      "Bias: 0.40\n",
      "Mean squared error: 11.59\n",
      "RSS: 5804.84\n",
      "Variance score: 0.68\n",
      "\n",
      "Ridge\n",
      "                  Feature  Coefficient\n",
      "146        Country_Serbia     2.681179\n",
      "82          Country_Gabon    -1.024362\n",
      "19                 Deaths     0.810872\n",
      "129       Country_Nigeria    -0.583018\n",
      "145       Country_Senegal    -0.507376\n",
      "74        Country_Ecuador     0.484716\n",
      "71        Country_Denmark    -0.463286\n",
      "41       Country_Barbados    -0.349468\n",
      "144  Country_Saudi Arabia    -0.330779\n",
      "39        Country_Bahrain    -0.319980\n",
      "\n",
      "Bias: 0.14\n",
      "Mean squared error: 3.46\n",
      "RSS: 1734.99\n",
      "Variance score: 0.89\n",
      "\n",
      "Linear Regression\n",
      "                  Feature  Coefficient\n",
      "146        Country_Serbia     2.744681\n",
      "82          Country_Gabon    -1.041705\n",
      "19                 Deaths     0.810642\n",
      "129       Country_Nigeria    -0.597353\n",
      "145       Country_Senegal    -0.518651\n",
      "74        Country_Ecuador     0.479314\n",
      "71        Country_Denmark    -0.476093\n",
      "41       Country_Barbados    -0.366330\n",
      "39        Country_Bahrain    -0.342598\n",
      "144  Country_Saudi Arabia    -0.341432\n",
      "\n",
      "Bias: 0.14\n",
      "Mean squared error: 3.49\n",
      "RSS: 1746.62\n",
      "Variance score: 0.89\n",
      "\n"
     ]
    }
   ],
   "source": [
    "from sklearn import linear_model\n",
    "import importlib\n",
    "importlib.reload(pipeline)\n",
    "ls = linear_model.Lasso(alpha=0.5)\n",
    "rg = linear_model.Ridge(alpha=0.5)\n",
    "lreg = linear_model.LinearRegression()\n",
    "ev = {}\n",
    "models = [(ls, 'Lasso'),\n",
    "          (rg, 'Ridge'),\n",
    "          (lreg, 'Linear Regression')]\n",
    "\n",
    "for m in models:\n",
    "    (model, name) = m\n",
    "    model.fit(x_train, y_train)\n",
    "    y_pred = model.predict(x_test)\n",
    "    print('{}\\n{}\\n'.format(name, pipeline.get_most_relevant_features(x_train, model, 10)))\n",
    "    ev[name] = pipeline.metrics(y_pred, y_test, x_train, y_train, model)"
   ]
  },
  {
   "cell_type": "code",
   "execution_count": 41,
   "metadata": {},
   "outputs": [],
   "source": [
    "from sklearn.preprocessing import PolynomialFeatures\n",
    "poly = PolynomialFeatures(degree=2, include_bias=False)\n",
    "pf = poly.fit_transform(x_train)"
   ]
  }
 ],
 "metadata": {
  "kernelspec": {
   "display_name": "Python 3",
   "language": "python",
   "name": "python3"
  },
  "language_info": {
   "codemirror_mode": {
    "name": "ipython",
    "version": 3
   },
   "file_extension": ".py",
   "mimetype": "text/x-python",
   "name": "python",
   "nbconvert_exporter": "python",
   "pygments_lexer": "ipython3",
   "version": "3.8.3"
  }
 },
 "nbformat": 4,
 "nbformat_minor": 4
}
